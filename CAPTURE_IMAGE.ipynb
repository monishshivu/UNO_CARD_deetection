{
 "cells": [
  {
   "cell_type": "code",
   "execution_count": 1,
   "id": "54182f05",
   "metadata": {},
   "outputs": [],
   "source": [
    "import numpy as np\n",
    "import cv2\n",
    "import matplotlib.pyplot as plt\n",
    "%matplotlib inline"
   ]
  },
  {
   "cell_type": "code",
   "execution_count": 2,
   "id": "fc49c957",
   "metadata": {},
   "outputs": [
    {
     "name": "stdout",
     "output_type": "stream",
     "text": [
      "True\n"
     ]
    }
   ],
   "source": [
    "vc = cv2.VideoCapture(0) \n",
    "print(vc.isOpened())\n",
    "i = 0\n",
    "while vc.isOpened():\n",
    "    rval, frame = vc.read()    # read video frames again at each loop, as long as the stream is open\n",
    "    cv2.imwrite(f'D:/UNO_CARD/YELLOW_DRAW_2/{i}.png',frame)\n",
    "    i+=1\n",
    "    cv2.imshow(\"stream\", frame)# display each frame as an image, \"stream\" is the name of the window\n",
    "    key = cv2.waitKey(1)       # allows user intervention without stopping the stream (pause in ms)\n",
    "    if key == 27:              # exit on ESC\n",
    "        break\n",
    "cv2.destroyWindow(\"stream\")    # close image window upon exit\n",
    "vc.release()     \n"
   ]
  },
  {
   "cell_type": "markdown",
   "id": "44e1a9ae",
   "metadata": {},
   "source": [
    "# Merge_Files"
   ]
  },
  {
   "cell_type": "code",
   "execution_count": 43,
   "id": "fe492da6",
   "metadata": {},
   "outputs": [],
   "source": [
    "import os\n",
    "import shutil"
   ]
  },
  {
   "cell_type": "code",
   "execution_count": 44,
   "id": "86b5f375",
   "metadata": {
    "scrolled": true
   },
   "outputs": [],
   "source": [
    "source_dirs = ['D:/UNO_CARD/BLUE_9', 'D:/UNO_CARD/GREEN_9', 'D:/UNO_CARD/RED_9','D:/UNO_CARD/YELLOW_9']\n",
    "target_dir = 'D:/UNO_CARD/9'"
   ]
  },
  {
   "cell_type": "code",
   "execution_count": 49,
   "id": "9b3ab487",
   "metadata": {},
   "outputs": [],
   "source": [
    "if not os.path.exists(target_dir):\n",
    "    os.makedirs(target_dir)\n",
    "file_counter = 0\n",
    "file_map = {}  # To track where files originally came from"
   ]
  },
  {
   "cell_type": "code",
   "execution_count": 46,
   "id": "5f36c064",
   "metadata": {},
   "outputs": [
    {
     "name": "stdout",
     "output_type": "stream",
     "text": [
      "Files have been successfully renamed and moved. Last file number: 1688\n"
     ]
    }
   ],
   "source": [
    "for directory in source_dirs:\n",
    "    # List all files in the directory and sort them to maintain order\n",
    "    files = sorted(os.listdir(directory))\n",
    "\n",
    "    # Rename and move each file\n",
    "    for filename in files:\n",
    "        # Set up the new filename based on the counter\n",
    "        _, file_extension = os.path.splitext(filename)\n",
    "        new_filename = f\"{file_counter}{file_extension}\"\n",
    "        \n",
    "        # Build the full source and target paths\n",
    "        source_file = os.path.join(directory, filename)\n",
    "        target_file = os.path.join(target_dir, new_filename)\n",
    "        \n",
    "        # Move and rename the file\n",
    "        shutil.move(source_file, target_file)\n",
    "        \n",
    "        # Increment the counter for the next file\n",
    "        file_counter += 1\n",
    "\n",
    "print(f\"Files have been successfully renamed and moved. Last file number: {file_counter-1}\")"
   ]
  },
  {
   "cell_type": "markdown",
   "id": "1d797867",
   "metadata": {},
   "source": [
    "# move image back from target_file - source_file"
   ]
  },
  {
   "cell_type": "code",
   "execution_count": 50,
   "id": "6ed3ecc8",
   "metadata": {},
   "outputs": [],
   "source": [
    "# Move files back to their original directories using the file_map\n",
    "for new_filename, original_dir in file_map.items():\n",
    "    target_file = os.path.join(target_dir, new_filename)\n",
    "    original_file = os.path.join(original_dir, new_filename)  # Using the new filename, or adjust if needed\n",
    "    shutil.move(target_file, original_file)\n"
   ]
  },
  {
   "cell_type": "code",
   "execution_count": null,
   "id": "a2a13d53",
   "metadata": {},
   "outputs": [],
   "source": []
  }
 ],
 "metadata": {
  "kernelspec": {
   "display_name": "Python 3 (ipykernel)",
   "language": "python",
   "name": "python3"
  },
  "language_info": {
   "codemirror_mode": {
    "name": "ipython",
    "version": 3
   },
   "file_extension": ".py",
   "mimetype": "text/x-python",
   "name": "python",
   "nbconvert_exporter": "python",
   "pygments_lexer": "ipython3",
   "version": "3.11.5"
  }
 },
 "nbformat": 4,
 "nbformat_minor": 5
}
